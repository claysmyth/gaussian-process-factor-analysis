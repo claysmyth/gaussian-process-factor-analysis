{
 "cells": [
  {
   "cell_type": "markdown",
   "metadata": {},
   "source": [
    "### Appendix. Woodbury Matrix Identity\n",
    "This notebook investigates various implementation for matrix inversion of the form $(P+UCV)^{-1}$. It is inspired by Bryon Yu et al's code for GPFA and this [blog](https://gregorygundersen.com/blog/2018/11/30/woodbury/) post."
   ]
  },
  {
   "cell_type": "code",
   "execution_count": 1,
   "metadata": {},
   "outputs": [],
   "source": [
    "import numpy as np\n",
    "import matplotlib.pyplot as plt\n",
    "import time"
   ]
  },
  {
   "cell_type": "code",
   "execution_count": 2,
   "metadata": {},
   "outputs": [],
   "source": [
    "def generate_matrix(dim, dim_z):\n",
    "    # where dim is the dimension of the observation. In our package, the number of nuerons observed\n",
    "    # dim_z is the dimension of the hidden state. \n",
    "    # P: dim x dim\n",
    "    # U: dim x dim_z\n",
    "    # C: dim_z x dim_z\n",
    "    # V: dim_z x dim\n",
    "    # output to be used to test computational efficiency of various implementation of\n",
    "    # Woodbury matrix identity\n",
    "    # (P + UCV)^(-1) = P^(-1) - P^(-1)U(C^(-1) + VP^(-1)U)^(-1)VP^(-1)\n",
    "\n",
    "    P = np.diag(np.random.normal(0,1,dim)) ** 2 #diag\n",
    "    U = np.random.normal(0,1,(dim,dim_z))\n",
    "    C = np.random.normal(0,1,(dim_z,dim_z))\n",
    "    V = np.random.normal(0,1,(dim_z,dim))\n",
    "    \n",
    "    return P,U,C,V"
   ]
  },
  {
   "cell_type": "code",
   "execution_count": 3,
   "metadata": {},
   "outputs": [],
   "source": [
    "def naive(P,U,C,V):\n",
    "    return np.linalg.inv(P + U @ C @ V)"
   ]
  },
  {
   "cell_type": "code",
   "execution_count": 4,
   "metadata": {},
   "outputs": [],
   "source": [
    "def woodbury(P, U, C, V):\n",
    "    # Fast inversion of diagonal Psi.\n",
    "    P_inv = np.diag(1./np.diag(P))\n",
    "    C_inv = np.linalg.inv(C)\n",
    "    # B is the k by k matrix to invert.\n",
    "    B_inv = np.linalg.inv(C_inv + V @ P_inv @ U)\n",
    "    return P_inv - P_inv @ U @ B_inv @ V @ P_inv"
   ]
  },
  {
   "cell_type": "code",
   "execution_count": 5,
   "metadata": {},
   "outputs": [],
   "source": [
    "def woodbury_broadcast(P, U, C, V):\n",
    "    tic = time.time() \n",
    "\n",
    "    # Fast inversion of diagonal Psi.\n",
    "    P_inv = 1./np.diag(P)\n",
    "    C_inv = np.linalg.inv(C)\n",
    "    # B is the k by k matrix to invert.\n",
    "    B_inv = np.linalg.inv(C_inv + V @ (P_inv.reshape((-1,1)) * U))\n",
    "    \n",
    "    #return np.diag(P_inv) - P_inv.reshape((-1,1)) * U @ B_inv @ V @ np.diag(P_inv)\n",
    "    return np.diag(P_inv) - P_inv.reshape((1,-1)) * (P_inv.reshape((-1,1)) * U @ B_inv @ V)"
   ]
  },
  {
   "cell_type": "code",
   "execution_count": 6,
   "metadata": {},
   "outputs": [],
   "source": [
    "dim = 50\n",
    "dim_z = 3\n",
    "P,U,C,V = generate_matrix(dim, dim_z)"
   ]
  },
  {
   "cell_type": "code",
   "execution_count": 7,
   "metadata": {},
   "outputs": [
    {
     "name": "stdout",
     "output_type": "stream",
     "text": [
      "naive inversion uses 0.0048220157623291016 seconds.\n"
     ]
    }
   ],
   "source": [
    "tic = time.time()\n",
    "\n",
    "invM0 = naive(P, U, C, V)\n",
    "\n",
    "toc = time.time()\n",
    "print(f\"naive inversion uses {toc - tic} seconds.\")"
   ]
  },
  {
   "cell_type": "code",
   "execution_count": 8,
   "metadata": {},
   "outputs": [
    {
     "name": "stdout",
     "output_type": "stream",
     "text": [
      "naive woodbury uses 0.0004119873046875 seconds.\n"
     ]
    }
   ],
   "source": [
    "tic = time.time()\n",
    "\n",
    "invM = woodbury(P, U, C, V)\n",
    "\n",
    "toc = time.time()\n",
    "print(f\"naive woodbury uses {toc - tic} seconds.\")"
   ]
  },
  {
   "cell_type": "code",
   "execution_count": 9,
   "metadata": {},
   "outputs": [
    {
     "name": "stdout",
     "output_type": "stream",
     "text": [
      "broadcast baked-in woodbury uses 0.00041103363037109375 seconds.\n"
     ]
    }
   ],
   "source": [
    "tic = time.time()\n",
    "\n",
    "invM2 = woodbury_broadcast(P, U, C, V)\n",
    "\n",
    "toc = time.time()\n",
    "print(f\"broadcast baked-in woodbury uses {toc - tic} seconds.\")"
   ]
  },
  {
   "cell_type": "code",
   "execution_count": 10,
   "metadata": {},
   "outputs": [
    {
     "data": {
      "text/plain": [
       "1.6370904631912708e-11"
      ]
     },
     "execution_count": 10,
     "metadata": {},
     "output_type": "execute_result"
    }
   ],
   "source": [
    "# check correctness\n",
    "np.max(np.abs(invM2 - invM))"
   ]
  },
  {
   "cell_type": "markdown",
   "metadata": {},
   "source": [
    "### scale up for many dimensions"
   ]
  },
  {
   "cell_type": "code",
   "execution_count": 18,
   "metadata": {},
   "outputs": [],
   "source": [
    "dim_all = np.array([50,100,200,300,400,600,700,800,1500,2000,4000,10000])\n",
    "\n",
    "t0_all = []\n",
    "t1_all = []\n",
    "t2_all = []\n",
    "for dim in dim_all:\n",
    "    # generate data\n",
    "    P,U,C,V = P,U,C,V = generate_matrix(dim, 3)\n",
    "    \n",
    "    # inversion version 0\n",
    "    tic = time.time()\n",
    "    invM = naive(P, U, C, V)\n",
    "    toc = time.time()\n",
    "    t0 = toc - tic\n",
    "        \n",
    "    # inversion version 1\n",
    "    tic = time.time()\n",
    "    invM = woodbury(P, U, C, V)\n",
    "    toc = time.time()\n",
    "    t1 = toc - tic\n",
    "    \n",
    "    # inversion version 2\n",
    "    tic = time.time()\n",
    "    invM2 = woodbury_broadcast(P, U, C, V)\n",
    "    toc = time.time()\n",
    "    t2 = toc - tic\n",
    "    \n",
    "    t0_all.append(t0)\n",
    "    t1_all.append(t1)\n",
    "    t2_all.append(t2)\n",
    "    \n",
    "    if dim < 10000:\n",
    "        assert np.max(np.abs(invM2 - invM)) < 1e-5\n",
    "    "
   ]
  },
  {
   "cell_type": "code",
   "execution_count": 19,
   "metadata": {},
   "outputs": [
    {
     "data": {
      "text/plain": [
       "Text(0.5, 0, 'dim of observation')"
      ]
     },
     "execution_count": 19,
     "metadata": {},
     "output_type": "execute_result"
    },
    {
     "data": {
      "image/png": "[encoded data removed]",
      "text/plain": [
       "<Figure size 432x288 with 1 Axes>"
      ]
     },
     "metadata": {
      "needs_background": "light"
     },
     "output_type": "display_data"
    }
   ],
   "source": [
    "plt.plot(dim_all, t0_all, label = \"naive inversion\")\n",
    "plt.plot(dim_all, t1_all, label = \"naive Woodbury\")\n",
    "plt.plot(dim_all, t2_all, label = \"broadcast Woodbury\")\n",
    "plt.legend()\n",
    "plt.ylabel(\"computation time (second)\")\n",
    "plt.xlabel(\"dim of observation\")"
   ]
  },
  {
   "cell_type": "code",
   "execution_count": null,
   "metadata": {},
   "outputs": [],
   "source": []
  }
 ],
 "metadata": {
  "kernelspec": {
   "display_name": "Python 3",
   "language": "python",
   "name": "python3"
  },
  "language_info": {
   "codemirror_mode": {
    "name": "ipython",
    "version": 3
   },
   "file_extension": ".py",
   "mimetype": "text/x-python",
   "name": "python",
   "nbconvert_exporter": "python",
   "pygments_lexer": "ipython3",
   "version": "3.7.4"
  }
 },
 "nbformat": 4,
 "nbformat_minor": 4
}
