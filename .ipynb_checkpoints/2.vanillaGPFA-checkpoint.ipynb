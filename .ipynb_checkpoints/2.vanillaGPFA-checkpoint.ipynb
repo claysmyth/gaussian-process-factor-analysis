{
 "cells": [
  {
   "cell_type": "markdown",
   "metadata": {},
   "source": [
    "## 2. Vanilla GPFA"
   ]
  },
  {
   "cell_type": "markdown",
   "metadata": {},
   "source": [
    "It is vanilla in the sense that it only handles trials with the same length for now."
   ]
  },
  {
   "cell_type": "code",
   "execution_count": 2,
   "metadata": {},
   "outputs": [],
   "source": [
    "%reload_ext autoreload\n",
    "%autoreload 2"
   ]
  },
  {
   "cell_type": "code",
   "execution_count": 3,
   "metadata": {},
   "outputs": [],
   "source": [
    "import numpy as np\n",
    "import quantities as pq\n",
    "from sklearn.decomposition import FactorAnalysis\n",
    "import matplotlib.pyplot as plt"
   ]
  },
  {
   "cell_type": "code",
   "execution_count": 4,
   "metadata": {},
   "outputs": [],
   "source": [
    "from e_step import e_step\n",
    "from m_step import m_step"
   ]
  },
  {
   "cell_type": "code",
   "execution_count": 19,
   "metadata": {},
   "outputs": [],
   "source": [
    "# =====================\n",
    "# load simulated data\n",
    "# =====================\n",
    "\n",
    "seqs = np.load('simulated_data1.npy',allow_pickle=True)"
   ]
  },
  {
   "cell_type": "code",
   "execution_count": 55,
   "metadata": {},
   "outputs": [
    {
     "name": "stdout",
     "output_type": "stream",
     "text": [
      "Initializing parameters using factor analysis...\n"
     ]
    }
   ],
   "source": [
    "# ==================================\n",
    "# Initialize state model parameters\n",
    "# ==================================\n",
    "x_dim = 2\n",
    "bin_width=20.0    # in ms, this should match how we simulated the synthetic data.\n",
    "tau_init=100.0\n",
    "eps_init=1.0E-3\n",
    "em_tol = 1.0E-3\n",
    "\n",
    "max_iteration_num = 100\n",
    "    \n",
    "params_init = dict()\n",
    "params_init['covType'] = 'rbf' # so far only rbf is implemented for this vanilla version\n",
    "# GP timescale\n",
    "# Assume binWidth is the time step size.\n",
    "params_init['gamma'] = (bin_width / tau_init) ** 2 * np.ones(x_dim)\n",
    "# GP noise variance\n",
    "params_init['eps'] = eps_init * np.ones(x_dim)\n",
    "\n",
    "# ========================================\n",
    "# Initialize observation model parameters\n",
    "# ========================================\n",
    "print('Initializing parameters using factor analysis...')\n",
    "\n",
    "y_all = np.hstack(seqs['y'])\n",
    "fa = FactorAnalysis(n_components=x_dim, copy=True,\n",
    "                    noise_variance_init=np.diag(np.cov(y_all, bias=True)))\n",
    "fa.fit(y_all.T)\n",
    "params_init['d'] = y_all.mean(axis=1)\n",
    "params_init['C'] = fa.components_.T\n",
    "params_init['R'] = np.diag(fa.noise_variance_)\n",
    "params_init['x_dim'] = 2\n",
    "params_init['tau'] = tau_init\n"
   ]
  },
  {
   "cell_type": "code",
   "execution_count": 57,
   "metadata": {
    "scrolled": true
   },
   "outputs": [
    {
     "name": "stdout",
     "output_type": "stream",
     "text": [
      "\n",
      "Converged after 42 EM iterations\n"
     ]
    }
   ],
   "source": [
    "# =====================\n",
    "# Fit model parameters\n",
    "# =====================\n",
    "\n",
    "params = params_init\n",
    "for i in range(max_iteration_num):\n",
    "    seqs_out, LL_i = e_step(seqs, params)\n",
    "    params = m_step(seqs_out, params)\n",
    "\n",
    "    \n",
    "    # Check convergence\n",
    "    if i <= 1:\n",
    "        LL_base = LL_i\n",
    "        LL_old = LL_i\n",
    "    elif LL_i < LL_old:\n",
    "        print(f\"\\nError: Log likelihood decreased from {LL_old:.1f} to {LL_i:.1f}\")\n",
    "        break\n",
    "    elif (LL_i - LL_base) < (1 + em_tol) * (LL_old - LL_base):\n",
    "        print(f\"\\nConverged after {i+1} EM iterations\")\n",
    "        break\n",
    "    LL_old = LL_i\n",
    "            "
   ]
  },
  {
   "cell_type": "code",
   "execution_count": null,
   "metadata": {},
   "outputs": [],
   "source": []
  }
 ],
 "metadata": {
  "kernelspec": {
   "display_name": "Python (neuroscience)",
   "language": "python",
   "name": "neuroscience"
  },
  "language_info": {
   "codemirror_mode": {
    "name": "ipython",
    "version": 3
   },
   "file_extension": ".py",
   "mimetype": "text/x-python",
   "name": "python",
   "nbconvert_exporter": "python",
   "pygments_lexer": "ipython3",
   "version": "3.8.1"
  }
 },
 "nbformat": 4,
 "nbformat_minor": 4
}
